{
  "nbformat": 4,
  "nbformat_minor": 0,
  "metadata": {
    "colab": {
      "provenance": []
    },
    "kernelspec": {
      "name": "python3",
      "display_name": "Python 3"
    },
    "language_info": {
      "name": "python"
    }
  },
  "cells": [
    {
      "cell_type": "code",
      "source": [
        "class Calculator:\n",
        "\n",
        "  def __init__(self):\n",
        "    self.operations = {\n",
        "        '+': lambda x, y: x + y,\n",
        "        '-': lambda x, y: x - y,\n",
        "        '*': lambda x, y: x * y,\n",
        "        '/': lambda x, y: x / y,\n",
        "        '**': lambda x, y: x ** y\n",
        "    }\n",
        "\n",
        "    self.previous_calculation = None\n",
        "\n",
        "  def calculate(self, first_number, second_number, operation: str):\n",
        "    \"Performs the operation with the `first_number` and `second_number`\"\n",
        "    try:\n",
        "      result = self._get_operation_function(operation)(first_number,\n",
        "                                                       second_number)\n",
        "      self.previous_calculation = result\n",
        "\n",
        "      return result\n",
        "    except (ZeroDivisionError, OverflowError):\n",
        "      return None\n",
        "\n",
        "  def _get_operation_function(self, operation: str):\n",
        "    return self.operations[operation]"
      ],
      "metadata": {
        "id": "zNkbvCPwVM6-"
      },
      "execution_count": null,
      "outputs": []
    },
    {
      "cell_type": "markdown",
      "source": [
        "# Test Cases"
      ],
      "metadata": {
        "id": "zCSEpPSxIuLP"
      }
    },
    {
      "cell_type": "code",
      "source": [
        "def test(name, actual, expected):\n",
        "  status = \"Passed\" if actual == expected else f\"Failed\\n\\tExpected: {expected}\\n\\tActual: {actual}\"\n",
        "  print(f\"Test [{name}]: {status}\\n\")"
      ],
      "metadata": {
        "id": "lRX1iuVfF1jt"
      },
      "execution_count": null,
      "outputs": []
    },
    {
      "cell_type": "code",
      "source": [
        "calculator = Calculator()\n",
        "\n",
        "test(\"Should add two numbers\", calculator.calculate(3, 2, '+'), 5)\n",
        "test(\"Should add two floating-point numbers\", calculator.calculate(2.5, 2.25, '+'), 4.75)\n",
        "\n",
        "test(\"Should subtract two numbers\", calculator.calculate(3, 2, '-'), 1)\n",
        "test(\"Should subtract two floating-point numbers\", calculator.calculate(2.5, 2.25, '-'), 0.25)\n",
        "\n",
        "test(\"Should multiply two numbers\", calculator.calculate(3, 2, '*'), 6)\n",
        "test(\"Should multiply two floating-point numbers\", calculator.calculate(2.5, 2.25, '*'), 5.625)\n",
        "\n",
        "test(\"Should divide two numbers\", calculator.calculate(4, 2, '/'), 2)\n",
        "test(\"Should divide two floating-point numbers\", calculator.calculate(5.5, 2.5, '/'), 2.2)\n",
        "\n",
        "test(\"Should raise first number to the second number\", calculator.calculate( 4, 2, '**'), 16)\n",
        "test(\"Should raise first floating-point number to the second number\", calculator.calculate(2.5, 2, '**'), 6.25)\n",
        "\n",
        "test(\"Should return 'undefined' when dividing by zero\", calculator.calculate(1, 0, '/'), None)\n",
        "test(\"Should return 'undefined' when raising base 0 to a number below 0\", calculator.calculate(0, -1, '**'), None)"
      ],
      "metadata": {
        "colab": {
          "base_uri": "https://localhost:8080/"
        },
        "id": "OXl7PfuTHDhC",
        "outputId": "49605167-cce0-4803-f033-94678d176852"
      },
      "execution_count": null,
      "outputs": [
        {
          "output_type": "stream",
          "name": "stdout",
          "text": [
            "Test [Should add two numbers]: Passed\n",
            "\n",
            "Test [Should add two floating-point numbers]: Passed\n",
            "\n",
            "Test [Should subtract two numbers]: Passed\n",
            "\n",
            "Test [Should subtract two floating-point numbers]: Passed\n",
            "\n",
            "Test [Should multiply two numbers]: Passed\n",
            "\n",
            "Test [Should multiply two floating-point numbers]: Passed\n",
            "\n",
            "Test [Should divide two numbers]: Passed\n",
            "\n",
            "Test [Should divide two floating-point numbers]: Passed\n",
            "\n",
            "Test [Should raise first number to the second number]: Passed\n",
            "\n",
            "Test [Should raise first floating-point number to the second number]: Passed\n",
            "\n",
            "Test [Should return 'undefined' when dividing by zero]: Passed\n",
            "\n",
            "Test [Should return 'undefined' when raising base 0 to a number below 0]: Passed\n",
            "\n"
          ]
        }
      ]
    },
    {
      "cell_type": "markdown",
      "source": [
        "# Code"
      ],
      "metadata": {
        "id": "YRUjR35tIvvn"
      }
    },
    {
      "cell_type": "code",
      "source": [
        "def exit_if_inputted(prompt: str):\n",
        "  user_input = input(prompt)\n",
        "\n",
        "  if user_input == \"exit\":\n",
        "    raise KeyboardInterrupt\n",
        "\n",
        "  return user_input"
      ],
      "metadata": {
        "id": "a9BIuka5LBky"
      },
      "execution_count": null,
      "outputs": []
    },
    {
      "cell_type": "code",
      "source": [
        "class Console:\n",
        "\n",
        "  def __init__(self, calculator: Calculator):\n",
        "    self.calculator = calculator\n",
        "\n",
        "  def start(self):\n",
        "    '''\n",
        "    Starts the looped process of the console calculator.\n",
        "    First, asks user for two numbers, then an operation.\n",
        "    After, the program will perform the operation based off of the inputs.\n",
        "    '''\n",
        "\n",
        "    print(\"Welcome to the Basic Python Calculator!\\n\\n\"\n",
        "          \"Extra inputs:\\n\"\n",
        "          \"  - 'ans': Uses the previous calculation result as the input. Can be used when entering a number.\\n\"\n",
        "          \"  - 'exit': Exits the program. Can be used anytime.\\n\\n\")\n",
        "\n",
        "    try:\n",
        "      while True:\n",
        "        self._calculator_process()\n",
        "    except KeyboardInterrupt:\n",
        "      print(\"\\nExiting program...\")\n",
        "\n",
        "  def _calculator_process(self):\n",
        "    first_number = self._validate_float_input(\"Enter the first number: \")\n",
        "    second_number = self._validate_float_input(\"Enter the second number: \")\n",
        "    operation = self._validate_operation_input(\"Enter the operation you want to perform (+,-,*,/,**): \")\n",
        "\n",
        "    result = self.calculator.calculate(first_number, second_number, operation)\n",
        "\n",
        "    if result is None:\n",
        "      print(\"An error occurred while attempting to perform the operation.\")\n",
        "    else:\n",
        "      print(f\"The result of {first_number} {operation} {second_number} = {result}\")\n",
        "\n",
        "  def _validate_float_input(self, prompt: str):\n",
        "    while True:\n",
        "      user_input = exit_if_inputted(prompt)\n",
        "\n",
        "      if user_input.lower() == \"ans\":\n",
        "        previous_calculation = self.calculator.previous_calculation\n",
        "\n",
        "        if previous_calculation is None:\n",
        "          print(\"There is no previous answer!\")\n",
        "        else:\n",
        "          return previous_calculation\n",
        "\n",
        "      try:\n",
        "        return float(user_input)\n",
        "      except ValueError:\n",
        "        print(\"Invalid input!\")\n",
        "\n",
        "\n",
        "  def _validate_operation_input(self, prompt: str):\n",
        "    while True:\n",
        "      user_input = exit_if_inputted(prompt)\n",
        "\n",
        "      if user_input in self.calculator.operations:\n",
        "          return user_input"
      ],
      "metadata": {
        "id": "rsjOAKI13yxV"
      },
      "execution_count": null,
      "outputs": []
    },
    {
      "cell_type": "code",
      "source": [
        "console = Console(Calculator())\n",
        "console.start()"
      ],
      "metadata": {
        "colab": {
          "base_uri": "https://localhost:8080/"
        },
        "id": "eWcsrOlwWLXr",
        "outputId": "2c331634-8e49-4eeb-d386-9fb851a07f39"
      },
      "execution_count": null,
      "outputs": [
        {
          "output_type": "stream",
          "name": "stdout",
          "text": [
            "Welcome to the Baisc Python Calculator!\n",
            "\n",
            "Extra inputs:\n",
            "  - 'ans': Uses the previous calculation result as the input. Can be used when entering a number.\n",
            "  - 'exit': Exits the program. Can be used anytime.\n",
            "\n",
            "\n",
            "Enter the first number: ans\n",
            "There is no previous answer!\n",
            "Enter the first number: ans\n",
            "There is no previous answer!\n",
            "Enter the first number: 10\n",
            "Enter the second number: 5\n",
            "Enter the operation you want to perform (+,-,*,/,**): -\n",
            "The result of 10.0 - 5.0 = 5.0\n",
            "Enter the first number: ans\n",
            "Enter the second number: 123\n",
            "Enter the operation you want to perform (+,-,*,/,**): *\n",
            "The result of 5.0 * 123.0 = 615.0\n",
            "Enter the first number: ans\n",
            "Enter the second number: 0.5\n",
            "Enter the operation you want to perform (+,-,*,/,**): /\n",
            "The result of 615.0 / 0.5 = 1230.0\n",
            "Enter the first number: ans\n",
            "Enter the second number: .04302874\n",
            "Enter the operation you want to perform (+,-,*,/,**): *\n",
            "The result of 1230.0 * 0.04302874 = 52.925350200000004\n",
            "Enter the first number: ans\n",
            "Enter the second number: 3\n",
            "Enter the operation you want to perform (+,-,*,/,**): **\n",
            "The result of 52.925350200000004 ** 3.0 = 148248.81176163687\n",
            "Enter the first number: exit\n",
            "\n",
            "Exiting program...\n"
          ]
        }
      ]
    },
    {
      "cell_type": "markdown",
      "source": [
        "# Benchmarks (in the link)\n",
        "https://colab.research.google.com/drive/1ZsMuHBDqc76yibt2_vTY2eKPYnw6nioC?usp=sharing\n",
        "\n",
        "\n",
        "Synopsis: They both have roughly the same performance. Dictionaries would be better then because it is more managable and cleaner.\n"
      ],
      "metadata": {
        "id": "vU0i_n07VAHk"
      }
    }
  ]
}