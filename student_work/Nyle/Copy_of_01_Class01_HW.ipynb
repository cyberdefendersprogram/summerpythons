{
  "nbformat": 4,
  "nbformat_minor": 0,
  "metadata": {
    "colab": {
      "provenance": [],
      "toc_visible": true,
      "include_colab_link": true
    },
    "kernelspec": {
      "name": "python3",
      "display_name": "Python 3"
    },
    "language_info": {
      "name": "python"
    }
  },
  "cells": [
    {
      "cell_type": "markdown",
      "metadata": {
        "id": "view-in-github",
        "colab_type": "text"
      },
      "source": [
        "<a href=\"https://colab.research.google.com/github/cyberdefendersprogram/summerpythons/blob/main/student_work/Nyle/Copy_of_01_Class01_HW.ipynb\" target=\"_parent\"><img src=\"https://colab.research.google.com/assets/colab-badge.svg\" alt=\"Open In Colab\"/></a>"
      ]
    },
    {
      "cell_type": "markdown",
      "source": [
        "# Make a basic calculator:\n",
        "```\n",
        "Simulate the basic calculator function in a simple python program and obtain user input to perform the arithmetic operations\n",
        "A + B (Addition)\n",
        "A - B (Sub)\n",
        "A / B (Div)\n",
        "A * B (Multiplication)\n",
        "A ** B (Exponential)\n",
        "Take two inputs A, B and one Operation (+, -, /, *, **) and prints out result\n",
        "'''"
      ],
      "metadata": {
        "id": "HjDROhxlKUEh"
      }
    },
    {
      "cell_type": "code",
      "source": [
        "\n",
        "def calculator(num1,num2,op) :\n",
        " if(op=='*')\n",
        " result=num1*num2\n",
        "if (op=='+')\n",
        " result=num1+num2\n",
        "if(op=='-')\n",
        " result=num1-num2\n",
        "if(op=='/')\n",
        " result=num1/num2\n",
        "if(op=='**')\n",
        " result=num1**num2\n",
        "return result\n",
        "\n",
        "\n",
        "\n",
        "\n"
      ],
      "metadata": {
        "id": "0oMv_ovqHjm3",
        "outputId": "02aa2414-f4a1-4af7-ed29-d3c0efe5fcf1",
        "colab": {
          "base_uri": "https://localhost:8080/",
          "height": 142
        }
      },
      "execution_count": null,
      "outputs": [
        {
          "output_type": "error",
          "ename": "SyntaxError",
          "evalue": "ignored",
          "traceback": [
            "\u001b[0;36m  File \u001b[0;32m\"<ipython-input-23-10a8dd65d75c>\"\u001b[0;36m, line \u001b[0;32m2\u001b[0m\n\u001b[0;31m    if(op=='*')\u001b[0m\n\u001b[0m               ^\u001b[0m\n\u001b[0;31mSyntaxError\u001b[0m\u001b[0;31m:\u001b[0m expected ':'\n"
          ]
        }
      ]
    },
    {
      "cell_type": "code",
      "source": [
        "if calculator(5,3,'+')==8:\n",
        " print(\"passed\")\n",
        "else:\n",
        "  print(\"failed\")"
      ],
      "metadata": {
        "colab": {
          "base_uri": "https://localhost:8080/"
        },
        "id": "FwBcNt-pQGXW",
        "outputId": "57874ae2-045e-4a01-a2a1-fb2968193c73"
      },
      "execution_count": null,
      "outputs": [
        {
          "output_type": "stream",
          "name": "stdout",
          "text": [
            "---------------Comfortable Calculator-------------\n",
            "failed\n"
          ]
        }
      ]
    }
  ]
}