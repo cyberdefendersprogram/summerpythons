{
  "nbformat": 4,
  "nbformat_minor": 0,
  "metadata": {
    "colab": {
      "provenance": [],
      "authorship_tag": "ABX9TyOc21CgxSRnqlkIcLWKZSXG",
      "include_colab_link": true
    },
    "kernelspec": {
      "name": "python3",
      "display_name": "Python 3"
    },
    "language_info": {
      "name": "python"
    }
  },
  "cells": [
    {
      "cell_type": "markdown",
      "metadata": {
        "id": "view-in-github",
        "colab_type": "text"
      },
      "source": [
        "<a href=\"https://colab.research.google.com/github/cyberdefendersprogram/summerpythons/blob/main/student_work/eslin/Calulator.ipynb\" target=\"_parent\"><img src=\"https://colab.research.google.com/assets/colab-badge.svg\" alt=\"Open In Colab\"/></a>"
      ]
    },
    {
      "cell_type": "markdown",
      "source": [
        "Old code Calculator"
      ],
      "metadata": {
        "id": "_0eR01PlWyA_"
      }
    },
    {
      "cell_type": "code",
      "execution_count": null,
      "metadata": {
        "colab": {
          "base_uri": "https://localhost:8080/"
        },
        "id": "x-W-hEYKJqtj",
        "outputId": "ea1f173e-c968-41ab-9cf0-c0058d37a368"
      },
      "outputs": [
        {
          "output_type": "stream",
          "name": "stdout",
          "text": [
            "Calculator performs basic arithmetic +, -, *, /, **\n",
            "Please enter your first number: 10\n",
            "Please enter your second number: 2\n",
            "Please enter the symbol of your operation (+, -, *, /, **): /\n",
            "5.0\n",
            "Do you want to continue? (y/n): n\n",
            "Adios!\n"
          ]
        }
      ],
      "source": [
        "class Calculator:\n",
        "    def calculate(self, num1, num2, operation):\n",
        "        try:\n",
        "            if operation == \"+\":\n",
        "                result = num1 + num2\n",
        "            if operation == \"-\":\n",
        "                result = num1 - num2\n",
        "            if operation == \"/\":\n",
        "                result = num1 / num2\n",
        "            if operation == \"*\":\n",
        "                result = num1 * num2\n",
        "            if operation == \"**\":\n",
        "                result = num1 ** num2\n",
        "            return result\n",
        "        except ZeroDivisionError:\n",
        "            return 'Undefined!'\n",
        "\n",
        "def test_calculate(name, a, b, op, expected_result):\n",
        "    calc = Calculator()\n",
        "    result = calc.calculate(a, b, op)\n",
        "    if result == expected_result:\n",
        "        print(f\"{name}: Correct Answer\")\n",
        "    else:\n",
        "        print(f\"{name}: Wrong Answer\")\n",
        "\n",
        "def user_input_loop():\n",
        "    '''\n",
        "    Asks the user to input first number, second number, and an operation\n",
        "    Calls the calculate function to get a result\n",
        "    Prints the result\n",
        "    Asks the user if they want to continue, otherwise exits the loop\n",
        "    '''\n",
        "    while True:\n",
        "        print(\"Calculator performs basic arithmetic +, -, *, /, **\")\n",
        "        num1 = float(input(\"Please enter your first number: \"))\n",
        "        num2 = float(input(\"Please enter your second number: \"))\n",
        "        operation = input(\"Please enter the symbol of your operation (+, -, *, /, **): \")\n",
        "        calc = Calculator()\n",
        "        result = calc.calculate(num1, num2, operation)\n",
        "        print(result)\n",
        "        continue_input = input(\"Do you want to continue? (y/n): \")\n",
        "        if continue_input.lower() != \"y\":\n",
        "            print(\"Adios!\")\n",
        "            break\n",
        "\n",
        "def main():\n",
        "    user_input_loop()\n",
        "\n",
        "if __name__ == \"__main__\":\n",
        "    main()"
      ]
    },
    {
      "cell_type": "markdown",
      "source": [
        "**New Code **"
      ],
      "metadata": {
        "id": "sM5Ith2mXGTC"
      }
    },
    {
      "cell_type": "code",
      "source": [
        "class Calculator:\n",
        "    def calculate(self, num1, num2, operation):\n",
        "        operations = {\n",
        "            \"+\": lambda x, y: x + y,\n",
        "            \"-\": lambda x, y: x - y,\n",
        "            \"*\": lambda x, y: x * y,\n",
        "            \"/\": lambda x, y: x / y,\n",
        "            \"**\": lambda x, y: x ** y,\n",
        "        }\n",
        "\n",
        "        if operation in operations: # checks if the operation provided by the user is a key in the operations dictionary.\n",
        "            return operations[operation](num1, num2)\n",
        "        else:\n",
        "            raise ValueError(\"Invalid operation\") # for invalid operations\n",
        "\n",
        "def test_calculate(name, a, b, op, expected_result):\n",
        "    calc = Calculator()\n",
        "    result = calc.calculate(a, b, op)\n",
        "    if result == expected_result:\n",
        "        print(f\"{name}: Correct Answer\")\n",
        "    else:\n",
        "        print(f\"{name}: Wrong Answer\")\n",
        "\n",
        "def user_input_loop():\n",
        "    while True:\n",
        "        print(\"Calculator performs basic arithmetic +, -, *, /, **\")\n",
        "        try:\n",
        "            num1 = float(input(\"Please enter your first number: \"))\n",
        "            num2 = float(input(\"Please enter your second number: \"))\n",
        "            operation = input(\"Please enter the symbol of your operation (+, -, *, /, **): \")\n",
        "\n",
        "            calc = Calculator()\n",
        "            result = calc.calculate(num1, num2, operation)\n",
        "            print(result)\n",
        "\n",
        "            continue_input = input(\"Do you want to continue? (y/n): \")\n",
        "            if continue_input.lower() != \"y\": # it converts everything that the user has input into lowercase\n",
        "                print(\"Adios!\")\n",
        "                break\n",
        "        except (ValueError, ZeroDivisionError) as e: # it will displayed the specific error information\n",
        "            print(\"Error:\", e)\n",
        "\n",
        "def main():\n",
        "    user_input_loop()\n",
        "\n",
        "if __name__ == \"__main__\":\n",
        "    main()\n"
      ],
      "metadata": {
        "colab": {
          "base_uri": "https://localhost:8080/"
        },
        "id": "eN9wee-1W3mk",
        "outputId": "426444db-6c4c-4429-cada-f1489a68d1ed"
      },
      "execution_count": null,
      "outputs": [
        {
          "output_type": "stream",
          "name": "stdout",
          "text": [
            "Calculator performs basic arithmetic +, -, *, /, **\n",
            "Please enter your first number: 2\n",
            "Please enter your second number: 0\n",
            "Please enter the symbol of your operation (+, -, *, /, **): /\n",
            "Error: float division by zero\n",
            "Calculator performs basic arithmetic +, -, *, /, **\n",
            "Please enter your first number: 2\n",
            "Please enter your second number: errtgfb\n",
            "Error: could not convert string to float: 'errtgfb'\n",
            "Calculator performs basic arithmetic +, -, *, /, **\n",
            "Please enter your first number: 2\n",
            "Please enter your second number: 3\n",
            "Please enter the symbol of your operation (+, -, *, /, **): >\n",
            "Error: Invalid operation\n",
            "Calculator performs basic arithmetic +, -, *, /, **\n",
            "Please enter your first number: 2\n",
            "Please enter your second number: 2\n",
            "Please enter the symbol of your operation (+, -, *, /, **): +\n",
            "4.0\n",
            "Do you want to continue? (y/n): y\n",
            "Calculator performs basic arithmetic +, -, *, /, **\n",
            "Please enter your first number: 3\n",
            "Please enter your second number: 4\n",
            "Please enter the symbol of your operation (+, -, *, /, **): -\n",
            "-1.0\n",
            "Do you want to continue? (y/n): n\n",
            "Adios!\n"
          ]
        }
      ]
    },
    {
      "cell_type": "code",
      "source": [
        "test_calculate(\"Test 1\", 5, 3, \"+\", 8)\n",
        "test_calculate(\"Test 2\", 10, 4, \"-\", 6)\n",
        "test_calculate(\"Test 3\", 7, 2, \"*\", 14)\n",
        "test_calculate(\"Test 4\", 8, 4, \"/\", 2)\n",
        "test_calculate(\"Test 5\", 2, 3, \"**\", 9)"
      ],
      "metadata": {
        "colab": {
          "base_uri": "https://localhost:8080/"
        },
        "id": "3Ii2NmmRXY36",
        "outputId": "eb96a542-f720-47f9-c912-f02d9afb6bc1"
      },
      "execution_count": null,
      "outputs": [
        {
          "output_type": "stream",
          "name": "stdout",
          "text": [
            "Test 1: Correct Answer\n",
            "Test 2: Correct Answer\n",
            "Test 3: Correct Answer\n",
            "Test 4: Correct Answer\n",
            "Test 5: Wrong Answer\n"
          ]
        }
      ]
    }
  ]
}