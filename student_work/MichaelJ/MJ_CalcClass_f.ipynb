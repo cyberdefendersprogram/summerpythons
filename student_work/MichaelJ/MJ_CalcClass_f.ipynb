{
  "nbformat": 4,
  "nbformat_minor": 0,
  "metadata": {
    "colab": {
      "provenance": [],
      "authorship_tag": "ABX9TyMmvgUd7wUii6LtkzUo5TH+",
      "include_colab_link": true
    },
    "kernelspec": {
      "name": "python3",
      "display_name": "Python 3"
    },
    "language_info": {
      "name": "python"
    }
  },
  "cells": [
    {
      "cell_type": "markdown",
      "metadata": {
        "id": "view-in-github",
        "colab_type": "text"
      },
      "source": [
        "<a href=\"https://colab.research.google.com/github/cyberdefendersprogram/summerpythons/blob/main/student_work/MichaelJ/MJ_CalcClass_f.ipynb\" target=\"_parent\"><img src=\"https://colab.research.google.com/assets/colab-badge.svg\" alt=\"Open In Colab\"/></a>"
      ]
    },
    {
      "cell_type": "markdown",
      "source": [
        "# calculator Class:"
      ],
      "metadata": {
        "id": "tkFobavyGQKk"
      }
    },
    {
      "cell_type": "code",
      "source": [
        "class Calculator:\n",
        "\n",
        "  def __init__(self, num1, num2):\n",
        "    self.num1 = float(num1)\n",
        "    self.num2 = float(num2)\n",
        "\n",
        "\n",
        "  #def calculate(self):\n",
        "    #if self.op == '+':\n",
        "      #return self.num1 + self.num2\n",
        "    # can make other ops through if statements with this format\n",
        "    #must keep self.op and op\n",
        "\n",
        "  def add(self):\n",
        "    '''Adds two numers'''\n",
        "    return (self.num1 + self.num2)\n",
        "\n",
        "  def sub(self):\n",
        "    '''Subtracts one number from another'''\n",
        "    return (self.num1 - self.num2)\n",
        "\n",
        "  def mult(self):\n",
        "    '''Multiplies two numbers'''\n",
        "    return (self.num1 * self.num2)\n",
        "\n",
        "  def div(self):\n",
        "    '''Divides one number by another\n",
        "      Returns undefined if division by 0'''\n",
        "    try:\n",
        "      return self.num1 / self.num2\n",
        "    except ZeroDivisionError:\n",
        "      return 'undefined'\n",
        "\n",
        "  def exponent(self):\n",
        "    '''raises one number to power of other number'''\n",
        "    return self.num1 ** self.num2\n",
        "\n",
        "  def operator(self, op):\n",
        "    if op == '*':\n",
        "      return self.mult()\n",
        "    if op == '/':\n",
        "      return self.div()\n",
        "    if op == '+':\n",
        "      return self.add()\n",
        "    if op == '-':\n",
        "      return self.sub()\n",
        "    if op == '**':\n",
        "      return self.exponent()\n",
        "\n",
        "  def user_input():\n",
        "    keep_going = 'y'\n",
        "    while keep_going == 'y':\n",
        "      print('Calculator performs basic operations between 2 numbers')\n",
        "      try:\n",
        "        num1 = float(input(\"Please enter your first number: \"))\n",
        "        num2 = float(input(\"Please enter your second number: \"))\n",
        "      except ValueError:\n",
        "        print('Invalid input, lets restart')\n",
        "        continue\n",
        "      calculation = Calculator(num1, num2)\n",
        "      op = input(\"Choose an operation: (+, -, *, /, **) \")\n",
        "      result = calculation.operator(op)\n",
        "      print(f'Result of {num1} {op} {num2} = {result}')\n",
        "      keep_going = input('Would you like to do another calculation, (y/n)?')\n",
        "      if keep_going == 'n':\n",
        "        print('Goodbye')\n",
        "\n",
        "  def tester(self,op,expected):\n",
        "    if op == '*':\n",
        "      actual =  self.mult()\n",
        "    if op == '/':\n",
        "      actual = self.div()\n",
        "    if op == '+':\n",
        "      actual = self.add()\n",
        "    if op == '-':\n",
        "      actual = self.sub()\n",
        "    if op == '**':\n",
        "      actual = self.exponent()\n",
        "    print(f'{self.num1} {op} {self.num2} = {actual}')\n",
        "    print(f'Expected value is: {expected}')\n",
        "    if expected == actual:\n",
        "      return 'Passed'\n",
        "    else:\n",
        "      return 'Incorrect'\n",
        "\n",
        "\n"
      ],
      "metadata": {
        "id": "VrcPO7yvGT3K"
      },
      "execution_count": 109,
      "outputs": []
    },
    {
      "cell_type": "code",
      "source": [
        "calculator = Calculator.user_input()\n",
        "\n",
        "calculator"
      ],
      "metadata": {
        "colab": {
          "base_uri": "https://localhost:8080/"
        },
        "id": "-VDEkpreJek2",
        "outputId": "b19ab01a-eaec-4155-acad-f8d516d42f5f"
      },
      "execution_count": 108,
      "outputs": [
        {
          "output_type": "stream",
          "name": "stdout",
          "text": [
            "Calculator performs basic operations between 2 numbers\n",
            "Please enter your first number: 5\n",
            "Please enter your second number: 0\n",
            "Choose an operation: (+, -, *, /, **) /\n",
            "Result of 5.0 / 0.0 = undefined\n",
            "Would you like to do another calculation, (y/n)?y\n",
            "Calculator performs basic operations between 2 numbers\n",
            "Please enter your first number: 4\n",
            "Please enter your second number: 5\n",
            "Choose an operation: (+, -, *, /, **) **\n",
            "Result of 4.0 ** 5.0 = 1024.0\n",
            "Would you like to do another calculation, (y/n)?n\n",
            "Goodbye\n"
          ]
        }
      ]
    },
    {
      "cell_type": "code",
      "source": [
        "calc = Calculator(1,2)\n",
        "result = calc.operator('+')\n",
        "print(result)"
      ],
      "metadata": {
        "colab": {
          "base_uri": "https://localhost:8080/"
        },
        "id": "TtFlILxXMvk7",
        "outputId": "9d1be97f-9ecc-4d1a-b737-c881586aa8ff"
      },
      "execution_count": 101,
      "outputs": [
        {
          "output_type": "stream",
          "name": "stdout",
          "text": [
            "3.0\n"
          ]
        }
      ]
    },
    {
      "cell_type": "code",
      "source": [
        "testing = Calculator(4,2)\n",
        "print(testing.tester('+',6))\n",
        "print(testing.tester('-',2))\n",
        "print(testing.tester('/',2))\n",
        "print(testing.tester('/',2))\n",
        "print(testing.tester('**',16))\n",
        "print(testing.tester('+',10))\n"
      ],
      "metadata": {
        "colab": {
          "base_uri": "https://localhost:8080/",
          "height": 375
        },
        "id": "xfvIOTfaResj",
        "outputId": "1e563887-5680-40fd-f0f2-30860245f481"
      },
      "execution_count": 110,
      "outputs": [
        {
          "output_type": "error",
          "ename": "NameError",
          "evalue": "ignored",
          "traceback": [
            "\u001b[0;31m---------------------------------------------------------------------------\u001b[0m",
            "\u001b[0;31mNameError\u001b[0m                                 Traceback (most recent call last)",
            "\u001b[0;32m<ipython-input-110-b27a481e1f5b>\u001b[0m in \u001b[0;36m<cell line: 2>\u001b[0;34m()\u001b[0m\n\u001b[1;32m      1\u001b[0m \u001b[0mtesting\u001b[0m \u001b[0;34m=\u001b[0m \u001b[0mCalculator\u001b[0m\u001b[0;34m(\u001b[0m\u001b[0;36m4\u001b[0m\u001b[0;34m,\u001b[0m\u001b[0;36m2\u001b[0m\u001b[0;34m)\u001b[0m\u001b[0;34m\u001b[0m\u001b[0;34m\u001b[0m\u001b[0m\n\u001b[0;32m----> 2\u001b[0;31m \u001b[0mprint\u001b[0m\u001b[0;34m(\u001b[0m\u001b[0mtesting\u001b[0m\u001b[0;34m.\u001b[0m\u001b[0mtester\u001b[0m\u001b[0;34m(\u001b[0m\u001b[0;34m'+'\u001b[0m\u001b[0;34m,\u001b[0m\u001b[0;36m6\u001b[0m\u001b[0;34m)\u001b[0m\u001b[0;34m)\u001b[0m\u001b[0;34m\u001b[0m\u001b[0;34m\u001b[0m\u001b[0m\n\u001b[0m\u001b[1;32m      3\u001b[0m \u001b[0mprint\u001b[0m\u001b[0;34m(\u001b[0m\u001b[0mtesting\u001b[0m\u001b[0;34m.\u001b[0m\u001b[0mtester\u001b[0m\u001b[0;34m(\u001b[0m\u001b[0;34m'-'\u001b[0m\u001b[0;34m,\u001b[0m\u001b[0;36m2\u001b[0m\u001b[0;34m)\u001b[0m\u001b[0;34m)\u001b[0m\u001b[0;34m\u001b[0m\u001b[0;34m\u001b[0m\u001b[0m\n\u001b[1;32m      4\u001b[0m \u001b[0mprint\u001b[0m\u001b[0;34m(\u001b[0m\u001b[0mtesting\u001b[0m\u001b[0;34m.\u001b[0m\u001b[0mtester\u001b[0m\u001b[0;34m(\u001b[0m\u001b[0;34m'/'\u001b[0m\u001b[0;34m,\u001b[0m\u001b[0;36m2\u001b[0m\u001b[0;34m)\u001b[0m\u001b[0;34m)\u001b[0m\u001b[0;34m\u001b[0m\u001b[0;34m\u001b[0m\u001b[0m\n\u001b[1;32m      5\u001b[0m \u001b[0mprint\u001b[0m\u001b[0;34m(\u001b[0m\u001b[0mtesting\u001b[0m\u001b[0;34m.\u001b[0m\u001b[0mtester\u001b[0m\u001b[0;34m(\u001b[0m\u001b[0;34m'/'\u001b[0m\u001b[0;34m,\u001b[0m\u001b[0;36m2\u001b[0m\u001b[0;34m)\u001b[0m\u001b[0;34m)\u001b[0m\u001b[0;34m\u001b[0m\u001b[0;34m\u001b[0m\u001b[0m\n",
            "\u001b[0;32m<ipython-input-109-bc297f2416e3>\u001b[0m in \u001b[0;36mtester\u001b[0;34m(self, op, expected)\u001b[0m\n\u001b[1;32m     68\u001b[0m   \u001b[0;32mdef\u001b[0m \u001b[0mtester\u001b[0m\u001b[0;34m(\u001b[0m\u001b[0mself\u001b[0m\u001b[0;34m,\u001b[0m\u001b[0mop\u001b[0m\u001b[0;34m,\u001b[0m\u001b[0mexpected\u001b[0m\u001b[0;34m)\u001b[0m\u001b[0;34m:\u001b[0m\u001b[0;34m\u001b[0m\u001b[0;34m\u001b[0m\u001b[0m\n\u001b[1;32m     69\u001b[0m     \u001b[0mtesting\u001b[0m \u001b[0;34m=\u001b[0m \u001b[0mCalculator\u001b[0m\u001b[0;34m.\u001b[0m\u001b[0moperator\u001b[0m\u001b[0;34m(\u001b[0m\u001b[0mop\u001b[0m\u001b[0;34m,\u001b[0m\u001b[0mexpected\u001b[0m\u001b[0;34m)\u001b[0m\u001b[0;34m\u001b[0m\u001b[0;34m\u001b[0m\u001b[0m\n\u001b[0;32m---> 70\u001b[0;31m     \u001b[0mprint\u001b[0m\u001b[0;34m(\u001b[0m\u001b[0;34mf'{self.num1} {op} {self.num2} = {actual}'\u001b[0m\u001b[0;34m)\u001b[0m\u001b[0;34m\u001b[0m\u001b[0;34m\u001b[0m\u001b[0m\n\u001b[0m\u001b[1;32m     71\u001b[0m     \u001b[0mprint\u001b[0m\u001b[0;34m(\u001b[0m\u001b[0;34mf'Expected value is: {expected}'\u001b[0m\u001b[0;34m)\u001b[0m\u001b[0;34m\u001b[0m\u001b[0;34m\u001b[0m\u001b[0m\n\u001b[1;32m     72\u001b[0m     \u001b[0;32mif\u001b[0m \u001b[0mexpected\u001b[0m \u001b[0;34m==\u001b[0m \u001b[0mactual\u001b[0m\u001b[0;34m:\u001b[0m\u001b[0;34m\u001b[0m\u001b[0;34m\u001b[0m\u001b[0m\n",
            "\u001b[0;31mNameError\u001b[0m: name 'actual' is not defined"
          ]
        }
      ]
    }
  ]
}