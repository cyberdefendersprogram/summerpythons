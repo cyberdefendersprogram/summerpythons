{
  "nbformat": 4,
  "nbformat_minor": 0,
  "metadata": {
    "colab": {
      "provenance": [],
      "toc_visible": true,
      "include_colab_link": true
    },
    "kernelspec": {
      "name": "python3",
      "display_name": "Python 3"
    },
    "language_info": {
      "name": "python"
    }
  },
  "cells": [
    {
      "cell_type": "markdown",
      "metadata": {
        "id": "view-in-github",
        "colab_type": "text"
      },
      "source": [
        "<a href=\"https://colab.research.google.com/github/cyberdefendersprogram/summerpythons/blob/main/student_work/vaibhav/04Class_CalculatorSolution.ipynb\" target=\"_parent\"><img src=\"https://colab.research.google.com/assets/colab-badge.svg\" alt=\"Open In Colab\"/></a>"
      ]
    },
    {
      "cell_type": "markdown",
      "source": [
        "# Calculator\n",
        "\n",
        "## Improve the calculator with following function signatures\n",
        "```\n",
        "def calculate(a: float, b: float) -> float :\n",
        "  pass\n",
        "\n",
        "def test_calculate(name: str, a: float, b: float, op:str, expected_result: float) -> bool:\n",
        "  pass\n",
        "\n",
        "def user_input_loop(): # using doctstring\n",
        "  '''Asks the user to input first number, second number and a operation\n",
        "     Calls the calculate function to get a result\n",
        "     Print the results\n",
        "     Asks the user if they want to continue, otherwise exits the loop'''\n",
        "  pass\n",
        "```\n",
        "\n",
        "## Make a class version of Calculator using the following Class prototype:\n",
        "* define the class\n",
        "```\n",
        "class Calculator\n",
        "  def __init__(self, a: float, b: float):\n",
        "  pass\n",
        "\n",
        "  def calculate(self) -> float :\n",
        "  pass\n",
        "```\n",
        "\n",
        "* create a user input look\n",
        "```\n",
        "  def user_input_loop()\n",
        "  '''Asks the user to input first number, second number and a operation\n",
        "     Calls the calculate function to get a result\n",
        "     Print the results\n",
        "     Asks the user if they want to continue, otherwise exits the loop'''\n",
        "  pass\n",
        "```\n",
        "\n",
        "* test it\n",
        "```\n",
        "def test_calculator_class\n",
        "```"
      ],
      "metadata": {
        "id": "OY7BqeMJlhFN"
      }
    },
    {
      "cell_type": "code",
      "source": [
        "class Calculator:\n",
        "  def __init__(self) -> None:\n",
        "    pass\n",
        "\n",
        "\n",
        "def user_input_loop():\n",
        "  pass\n",
        "\n",
        "def test_calculator_class():\n",
        "  pass"
      ],
      "metadata": {
        "id": "PGSv8jKq-NxQ"
      },
      "execution_count": 2,
      "outputs": []
    }
  ]
}