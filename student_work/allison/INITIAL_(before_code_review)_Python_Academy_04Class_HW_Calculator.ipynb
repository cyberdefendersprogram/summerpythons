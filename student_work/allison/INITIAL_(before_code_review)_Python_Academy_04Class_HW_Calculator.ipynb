{
  "nbformat": 4,
  "nbformat_minor": 0,
  "metadata": {
    "colab": {
      "provenance": [],
      "collapsed_sections": [
        "lhlE_W41CJAL",
        "BjuuWpU2CRBN"
      ],
      "include_colab_link": true
    },
    "kernelspec": {
      "name": "python3",
      "display_name": "Python 3"
    },
    "language_info": {
      "name": "python"
    }
  },
  "cells": [
    {
      "cell_type": "markdown",
      "metadata": {
        "id": "view-in-github",
        "colab_type": "text"
      },
      "source": [
        "<a href=\"https://colab.research.google.com/github/cyberdefendersprogram/summerpythons/blob/main/student_work/allison/INITIAL_(before_code_review)_Python_Academy_04Class_HW_Calculator.ipynb\" target=\"_parent\"><img src=\"https://colab.research.google.com/assets/colab-badge.svg\" alt=\"Open In Colab\"/></a>"
      ]
    },
    {
      "cell_type": "markdown",
      "source": [
        "# Calculator\n",
        "\n",
        "## Improve the calculator with following function signatures\n",
        "```\n",
        "def calculate(a: float, b: float) -> float :\n",
        "  pass\n",
        "\n",
        "def test_calculate(name: str, a: float, b: float, op:str, expected_result: float) -> bool:\n",
        "  pass\n",
        "\n",
        "def user_input_loop(): # using doctstring\n",
        "  '''Asks the user to input first number, second number and a operation\n",
        "     Calls the calculate function to get a result\n",
        "     Print the results\n",
        "     Asks the user if they want to continue, otherwise exits the loop'''\n",
        "  pass\n",
        "```\n",
        "\n",
        "## Make a class version of Calculator using the following Class prototype:\n",
        "* define the class\n",
        "```\n",
        "class Calculator\n",
        "  def __init__(self, a: float, b: float):\n",
        "  pass\n",
        "\n",
        "  def calculate(self) -> float :\n",
        "  pass\n",
        "```\n",
        "\n",
        "* create a user input look\n",
        "```\n",
        "  def user_input_loop()\n",
        "  '''Asks the user to input first number, second number and a operation\n",
        "     Calls the calculate function to get a result\n",
        "     Print the results\n",
        "     Asks the user if they want to continue, otherwise exits the loop'''\n",
        "  pass\n",
        "```\n",
        "\n",
        "* test it\n",
        "```\n",
        "def test_calculator_class\n",
        "```"
      ],
      "metadata": {
        "id": "OY7BqeMJlhFN"
      }
    },
    {
      "cell_type": "markdown",
      "source": [
        "# Code below will still be worked on to implement the code review feedback"
      ],
      "metadata": {
        "id": "El8SD-S0ExQr"
      }
    },
    {
      "cell_type": "markdown",
      "source": [
        "# **Class Version of Calculator**"
      ],
      "metadata": {
        "id": "BjuuWpU2CRBN"
      }
    },
    {
      "cell_type": "code",
      "source": [
        "class Calculator():\n",
        "  def __init__(self, a: float, b: float):\n",
        "    pass\n",
        "\n",
        "def calculate(self) -> float :\n",
        "  pass"
      ],
      "metadata": {
        "id": "6kwyrLDNCYW-"
      },
      "execution_count": null,
      "outputs": []
    },
    {
      "cell_type": "code",
      "source": [
        "class Calculator():\n",
        "  def __init__(self,a,b,operate):\n",
        "    pass\n",
        "\n",
        "  def calculate ():\n",
        "    a= input(\"What's your A? (Numbers only)\")\n",
        "    while type(a) != float:\n",
        "      try:\n",
        "        a= float(a)\n",
        "      except ValueError:\n",
        "        a= input(\"Not a valid A. Please enter another one.\")\n",
        "\n",
        "    b= input(\"What's your B? (Numbers only\")\n",
        "    while type(b) != float:\n",
        "      try:\n",
        "        b= float(b)\n",
        "      except ValueError:\n",
        "        b= input(\"Not a valid B. Please enter another one.\")\n",
        "\n",
        "    op= {'+': 1,\n",
        "     '-': 2,\n",
        "     '*': 3,\n",
        "     '**':4 ,\n",
        "     '/': 5}\n",
        "    checking= 'no'\n",
        "    while checking== 'no':\n",
        "      answer_op= input(\"What is your operation? (-,+,*,**,/)\")\n",
        "      if answer_op in op:\n",
        "        break\n",
        "\n",
        "\n",
        "    if (answer_op == '+'):\n",
        "      result = (float(a) + float(b))\n",
        "    if (answer_op == '-'):\n",
        "      result = (float(a) - float(b))\n",
        "    if (answer_op == '*'):\n",
        "      result = (float(a) * float(b))\n",
        "    if (answer_op == '**'):\n",
        "      result= (float(a) ** float(b))\n",
        "    if (answer_op == '/'):\n",
        "      try:\n",
        "        result= float(a)/float(b)\n",
        "      except ZeroDivisionError:\n",
        "        return (\"Cannot divide by zero\")\n",
        "    return(result)\n",
        "    return Calculator.user_input_loop()\n",
        "\n",
        "  def user_input_loop():\n",
        "    answer_cont='y'\n",
        "    while (answer_cont == 'y'):\n",
        "      print(Calculator.calculate())\n",
        "      answer_cont= input('Would you like to continue(y/n)')\n",
        "    if (answer_cont == 'n'):\n",
        "      print(\"Thanks for using the calculator\")\n",
        "\n",
        "  def test_calculate(a,b, answer_op,expected_result):\n",
        "    test_result = Calculator.calculate()\n",
        "    if test_result == expected_result:\n",
        "      return (\"PASSED\")\n",
        "    else:\n",
        "      return (\"FAILED\")\n"
      ],
      "metadata": {
        "id": "t5gJBqRiIOHT"
      },
      "execution_count": null,
      "outputs": []
    },
    {
      "cell_type": "code",
      "source": [
        "Calculator.calculate()\n"
      ],
      "metadata": {
        "colab": {
          "base_uri": "https://localhost:8080/"
        },
        "id": "m1NQjVH4un_8",
        "outputId": "6da2669d-1f3d-4f02-a1b0-a0801411ff7d"
      },
      "execution_count": null,
      "outputs": [
        {
          "name": "stdout",
          "output_type": "stream",
          "text": [
            "What's your A? (Numbers only)-\n",
            "Not a valid A. Please enter another one.-\n",
            "Not a valid A. Please enter another one.+++\n",
            "Not a valid A. Please enter another one.house\n",
            "Not a valid A. Please enter another one.1\n",
            "What's your B? (Numbers only-\n",
            "Not a valid B. Please enter another one.----\n",
            "Not a valid B. Please enter another one.3\n",
            "What is your operation? (-,+,*,**,/)+\n"
          ]
        },
        {
          "output_type": "execute_result",
          "data": {
            "text/plain": [
              "4.0"
            ]
          },
          "metadata": {},
          "execution_count": 84
        }
      ]
    },
    {
      "cell_type": "code",
      "source": [
        "Calculator.calculate()"
      ],
      "metadata": {
        "colab": {
          "base_uri": "https://localhost:8080/"
        },
        "id": "oMHH38wR0bB7",
        "outputId": "50779a58-0a04-4244-d883-f199cc401228"
      },
      "execution_count": null,
      "outputs": [
        {
          "name": "stdout",
          "output_type": "stream",
          "text": [
            "What's your A? (Numbers only)3\n",
            "What's your B? (Numbers only3\n",
            "What is your operation? (-,+,*,**,/)o\n",
            "What is your operation? (-,+,*,**,/)o\n",
            "What is your operation? (-,+,*,**,/)/\n"
          ]
        },
        {
          "output_type": "execute_result",
          "data": {
            "text/plain": [
              "1.0"
            ]
          },
          "metadata": {},
          "execution_count": 86
        }
      ]
    },
    {
      "cell_type": "code",
      "source": [
        "\n",
        "Calculator.user_input_loop()"
      ],
      "metadata": {
        "colab": {
          "base_uri": "https://localhost:8080/"
        },
        "id": "cIeznaADvVWz",
        "outputId": "0f2c0088-ef42-4f0d-99cf-41478dc84f3c"
      },
      "execution_count": null,
      "outputs": [
        {
          "output_type": "stream",
          "name": "stdout",
          "text": [
            "What's your A? (Numbers only)4\n",
            "What's your B? (Numbers only5\n",
            "What is your operation? (-,+,*,**,/)/\n",
            "0.8\n",
            "Would you like to continue(y/n)y\n",
            "What's your A? (Numbers only)7\n",
            "What's your B? (Numbers only0\n",
            "What is your operation? (-,+,*,**,/)/\n",
            "Cannot divide by zero\n",
            "Would you like to continue(y/n)n\n",
            "Thanks for using the calculator\n"
          ]
        }
      ]
    },
    {
      "cell_type": "code",
      "source": [
        "Calculator.test_calculate(1,2,'-',-1)"
      ],
      "metadata": {
        "colab": {
          "base_uri": "https://localhost:8080/",
          "height": 87
        },
        "id": "cupwUqpWwX4g",
        "outputId": "b399b2b8-d5d3-41c4-fae1-23badceacabc"
      },
      "execution_count": null,
      "outputs": [
        {
          "name": "stdout",
          "output_type": "stream",
          "text": [
            "What's your A? (Numbers only)1\n",
            "What's your B? (Numbers only2\n",
            "What is your operation? (-,+,*,**,/)-\n"
          ]
        },
        {
          "output_type": "execute_result",
          "data": {
            "text/plain": [
              "'PASSED'"
            ],
            "application/vnd.google.colaboratory.intrinsic+json": {
              "type": "string"
            }
          },
          "metadata": {},
          "execution_count": 62
        }
      ]
    }
  ]
}